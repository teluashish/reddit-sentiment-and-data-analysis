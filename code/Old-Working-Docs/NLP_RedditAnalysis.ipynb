{
  "cells": [
    {
      "cell_type": "code",
      "execution_count": 1,
      "metadata": {
        "colab": {
          "base_uri": "https://localhost:8080/"
        },
        "id": "G1KlDjI7_5g5",
        "outputId": "c77ef640-fce0-4f3d-bb81-6cc7b61fac16"
      },
      "outputs": [
        {
          "name": "stdout",
          "output_type": "stream",
          "text": [
            "Requirement already satisfied: praw in c:\\users\\schil\\appdata\\local\\programs\\python\\python311\\lib\\site-packages (7.7.1)\n",
            "Requirement already satisfied: prawcore<3,>=2.1 in c:\\users\\schil\\appdata\\local\\programs\\python\\python311\\lib\\site-packages (from praw) (2.4.0)\n",
            "Requirement already satisfied: update-checker>=0.18 in c:\\users\\schil\\appdata\\local\\programs\\python\\python311\\lib\\site-packages (from praw) (0.18.0)\n",
            "Requirement already satisfied: websocket-client>=0.54.0 in c:\\users\\schil\\appdata\\local\\programs\\python\\python311\\lib\\site-packages (from praw) (1.5.2)\n",
            "Requirement already satisfied: requests<3.0,>=2.6.0 in c:\\users\\schil\\appdata\\local\\programs\\python\\python311\\lib\\site-packages (from prawcore<3,>=2.1->praw) (2.31.0)\n",
            "Requirement already satisfied: charset-normalizer<4,>=2 in c:\\users\\schil\\appdata\\local\\programs\\python\\python311\\lib\\site-packages (from requests<3.0,>=2.6.0->prawcore<3,>=2.1->praw) (3.1.0)\n",
            "Requirement already satisfied: idna<4,>=2.5 in c:\\users\\schil\\appdata\\local\\programs\\python\\python311\\lib\\site-packages (from requests<3.0,>=2.6.0->prawcore<3,>=2.1->praw) (3.4)\n",
            "Requirement already satisfied: urllib3<3,>=1.21.1 in c:\\users\\schil\\appdata\\local\\programs\\python\\python311\\lib\\site-packages (from requests<3.0,>=2.6.0->prawcore<3,>=2.1->praw) (1.26.15)\n",
            "Requirement already satisfied: certifi>=2017.4.17 in c:\\users\\schil\\appdata\\local\\programs\\python\\python311\\lib\\site-packages (from requests<3.0,>=2.6.0->prawcore<3,>=2.1->praw) (2023.5.7)\n",
            "Note: you may need to restart the kernel to use updated packages.\n"
          ]
        }
      ],
      "source": [
        "pip install praw"
      ]
    },
    {
      "cell_type": "code",
      "execution_count": 2,
      "metadata": {
        "id": "pv_vXyHIYtpV"
      },
      "outputs": [],
      "source": [
        "from praw.models import user\n",
        "import praw\n",
        "import pandas as pd\n",
        "import prawcore.exceptions"
      ]
    },
    {
      "cell_type": "code",
      "execution_count": 3,
      "metadata": {
        "id": "WELqMLMcYfT5"
      },
      "outputs": [],
      "source": [
        "# Initialize PRAW with your API credentials\n",
        "reddit = praw.Reddit(\n",
        "client_id=\"nFKOCvQQEIoW2hFeVG6kfA\",\n",
        "client_secret=\"5BBB4fr-HMPtO8f4jZhle74-fYcDkQ\",\n",
        "user_agent=\"Icy_Process3191\",\n",
        ")"
      ]
    },
    {
      "cell_type": "code",
      "execution_count": 4,
      "metadata": {
        "id": "j2EsYm4keT8l"
      },
      "outputs": [
        {
          "data": {
            "text/plain": [
              "'\\ndef get_users_with_post_count(subreddit_name, n, reddit):\\n\\n    user_post_counts = {}\\n\\n    subreddit = reddit.subreddit(subreddit_name)\\n    for submission in subreddit.new(limit=None):\\n        author = submission.author\\n        if author:\\n            author_name = str(author)\\n            if author_name in user_post_counts:\\n                user_post_counts[author_name] += 1\\n            else:\\n                user_post_counts[author_name] = 1\\n\\n    users_more_than_n = [user for user, post_count in user_post_counts.items() if post_count > n]\\n\\n    return users_more_than_n\\n'"
            ]
          },
          "execution_count": 4,
          "metadata": {},
          "output_type": "execute_result"
        }
      ],
      "source": [
        "# not necessary\n",
        "'''\n",
        "def get_users_with_post_count(subreddit_name, n, reddit):\n",
        "\n",
        "    user_post_counts = {}\n",
        "\n",
        "    subreddit = reddit.subreddit(subreddit_name)\n",
        "    for submission in subreddit.new(limit=None):\n",
        "        author = submission.author\n",
        "        if author:\n",
        "            author_name = str(author)\n",
        "            if author_name in user_post_counts:\n",
        "                user_post_counts[author_name] += 1\n",
        "            else:\n",
        "                user_post_counts[author_name] = 1\n",
        "\n",
        "    users_more_than_n = [user for user, post_count in user_post_counts.items() if post_count > n]\n",
        "\n",
        "    return users_more_than_n\n",
        "'''\n"
      ]
    },
    {
      "cell_type": "code",
      "execution_count": 5,
      "metadata": {
        "id": "M4WA5AyIjJkX"
      },
      "outputs": [
        {
          "data": {
            "text/plain": [
              "'\\ndef get_user_subreddit_metrics(username, reddit):\\n\\n    subreddit_metrics = {}\\n\\n    try:\\n        redditor = reddit.redditor(username)\\n    except praw.exceptions.APIException as e:\\n        print(f\"Error: {e}\")\\n        return None\\n\\n    # Iterate through the user\\'s submissions (posts)\\n    for submission in redditor.submissions.new(limit=None):\\n        subreddit_name = submission.subreddit.display_name\\n\\n        if subreddit_name not in subreddit_metrics:\\n            subreddit_metrics[subreddit_name] = {\\n                \\'Number of Posts\\': 0,\\n                \\'Total Karma\\': 0,\\n                \\'Total Comments\\': 0\\n            }\\n\\n\\n        subreddit_metrics[subreddit_name][\\'Number of Posts\\'] += 1\\n        subreddit_metrics[subreddit_name][\\'Total Karma\\'] += submission.score\\n        subreddit_metrics[subreddit_name][\\'Total Comments\\'] += submission.num_comments\\n\\n\\n    df = pd.DataFrame.from_dict(subreddit_metrics, orient=\\'index\\')\\n    df.reset_index(inplace=True)\\n    df.rename(columns={\\'index\\': \\'Subreddit\\'}, inplace=True)\\n\\n    return df\\n'"
            ]
          },
          "execution_count": 5,
          "metadata": {},
          "output_type": "execute_result"
        }
      ],
      "source": [
        "# not necessary\n",
        "'''\n",
        "def get_user_subreddit_metrics(username, reddit):\n",
        "\n",
        "    subreddit_metrics = {}\n",
        "\n",
        "    try:\n",
        "        redditor = reddit.redditor(username)\n",
        "    except praw.exceptions.APIException as e:\n",
        "        print(f\"Error: {e}\")\n",
        "        return None\n",
        "\n",
        "    # Iterate through the user's submissions (posts)\n",
        "    for submission in redditor.submissions.new(limit=None):\n",
        "        subreddit_name = submission.subreddit.display_name\n",
        "\n",
        "        if subreddit_name not in subreddit_metrics:\n",
        "            subreddit_metrics[subreddit_name] = {\n",
        "                'Number of Posts': 0,\n",
        "                'Total Karma': 0,\n",
        "                'Total Comments': 0\n",
        "            }\n",
        "\n",
        "\n",
        "        subreddit_metrics[subreddit_name]['Number of Posts'] += 1\n",
        "        subreddit_metrics[subreddit_name]['Total Karma'] += submission.score\n",
        "        subreddit_metrics[subreddit_name]['Total Comments'] += submission.num_comments\n",
        "\n",
        "\n",
        "    df = pd.DataFrame.from_dict(subreddit_metrics, orient='index')\n",
        "    df.reset_index(inplace=True)\n",
        "    df.rename(columns={'index': 'Subreddit'}, inplace=True)\n",
        "\n",
        "    return df\n",
        "'''"
      ]
    },
    {
      "cell_type": "code",
      "execution_count": 6,
      "metadata": {
        "colab": {
          "base_uri": "https://localhost:8080/",
          "height": 412
        },
        "id": "xUOJsipLjPjc",
        "outputId": "9c279bb0-ad08-44cd-b02e-4457fe716aa0"
      },
      "outputs": [],
      "source": [
        "# not necessary\n",
        "#get_user_subreddit_metrics(\"Quiet_Effective7234\",reddit)"
      ]
    },
    {
      "cell_type": "code",
      "execution_count": 7,
      "metadata": {
        "id": "BliNmr-oc8Hk"
      },
      "outputs": [],
      "source": [
        "def get_user_metrics(usernames):\n",
        "\n",
        "    user_metrics = {}\n",
        "\n",
        "    for username in set(usernames):\n",
        "\n",
        "        user = reddit.redditor(username)\n",
        "        user_metrics[username] = {\n",
        "            'Username': username,\n",
        "            'Comment Karma': user.comment_karma,\n",
        "            'Post Karma': user.link_karma,\n",
        "            'Post Count': sum(1 for _ in user.submissions.new(limit=None)),\n",
        "            'Comment Count': sum(1 for _ in user.comments.new(limit=None))\n",
        "        }\n",
        "\n",
        "    return user_metrics"
      ]
    },
    {
      "cell_type": "code",
      "execution_count": 14,
      "metadata": {
        "id": "esXp0dU5Y-gm"
      },
      "outputs": [],
      "source": [
        "def get_posts(sub_name, n, top_comments_count):\n",
        "    subreddit = reddit.subreddit(sub_name)\n",
        "    top_posts = subreddit.top(time_filter='week', limit=n)\n",
        "\n",
        "    post_data = []\n",
        "    comment_data = []\n",
        "    author_usernames = []\n",
        "\n",
        "    for post in top_posts:\n",
        "        # by hiding the below we can get comments on non-self posts\n",
        "        #if not post.is_self:\n",
        "        #    continue\n",
        "\n",
        "        author_username = post.author.name if post.author else None\n",
        "        author_usernames.append(author_username)\n",
        "\n",
        "        post_data.append({\n",
        "            'Author': author_username,\n",
        "            'Subreddit': post.subreddit.display_name,\n",
        "            'post_id': post.id,\n",
        "            'Score': post.score,\n",
        "            'Upvotes': post.ups,\n",
        "            'Downvotes': post.downs,\n",
        "            'Number of Comments': post.num_comments,\n",
        "            'Text': post.selftext,\n",
        "            'Created On': post.created_utc,\n",
        "        })\n",
        "\n",
        "        submission = reddit.submission(id=post.id)\n",
        "        submission.comment_sort = 'best'\n",
        "        submission.comments.replace_more(limit=0)\n",
        "\n",
        "        for comment in submission.comments.list()[:top_comments_count]:\n",
        "            if hasattr(comment, \"author\") and comment.author:\n",
        "                comment_author = comment.author.name\n",
        "                author_usernames.append(comment_author)\n",
        "                comment_data.append({\n",
        "                    'post_id': post.id,\n",
        "                    'comment_text': comment.body,\n",
        "                    'comment_score': comment.score,\n",
        "                    'comment_ups': comment.ups,\n",
        "                    'comment_downs': comment.downs,\n",
        "                    'comment_author': comment_author\n",
        "                })\n",
        "\n",
        "    '''\n",
        "    not necessary:\n",
        "    user_metrics = get_user_metrics(author_usernames)\n",
        "\n",
        "    for comment in comment_data:\n",
        "        username = comment['comment_author']\n",
        "        comment.update(user_metrics.get(username, {}))\n",
        "    '''\n",
        "\n",
        "    # get dfs into one df\n",
        "    post_df = pd.DataFrame(post_data)\n",
        "    comment_df = pd.DataFrame(comment_data)\n",
        "    combined_df = pd.merge(post_df, comment_df, on='post_id')\n",
        "    \n",
        "    return combined_df\n",
        "    "
      ]
    },
    {
      "cell_type": "code",
      "execution_count": 15,
      "metadata": {
        "colab": {
          "base_uri": "https://localhost:8080/"
        },
        "id": "ZY03y2YKSQRT",
        "outputId": "9ff72252-bb06-4d58-f95b-cad28d722bb4"
      },
      "outputs": [],
      "source": [
        "combined_df = get_posts(sub_name='funny', n=3, top_comments_count=3)"
      ]
    },
    {
      "cell_type": "code",
      "execution_count": 16,
      "metadata": {
        "colab": {
          "base_uri": "https://localhost:8080/"
        },
        "id": "diDMzqh8SXvX",
        "outputId": "10309ab8-626b-4c56-c64d-e14ad6c37d67"
      },
      "outputs": [
        {
          "name": "stdout",
          "output_type": "stream",
          "text": [
            "              Author Subreddit  post_id  Score  Upvotes  Downvotes   \n",
            "0  DevelopmentNo9622     funny  185hd3g  44666    44666          0  \\\n",
            "1  DevelopmentNo9622     funny  185hd3g  44666    44666          0   \n",
            "2  DevelopmentNo9622     funny  185hd3g  44666    44666          0   \n",
            "3          lolikroli     funny  183kfng  42274    42274          0   \n",
            "4          lolikroli     funny  183kfng  42274    42274          0   \n",
            "5          lolikroli     funny  183kfng  42274    42274          0   \n",
            "6            flavioj     funny  184qb6x  38424    38424          0   \n",
            "7            flavioj     funny  184qb6x  38424    38424          0   \n",
            "8            flavioj     funny  184qb6x  38424    38424          0   \n",
            "\n",
            "   Number of Comments Text    Created On   \n",
            "0                 651       1.701128e+09  \\\n",
            "1                 651       1.701128e+09   \n",
            "2                 651       1.701128e+09   \n",
            "3                 366       1.700921e+09   \n",
            "4                 366       1.700921e+09   \n",
            "5                 366       1.700921e+09   \n",
            "6                 864       1.701047e+09   \n",
            "7                 864       1.701047e+09   \n",
            "8                 864       1.701047e+09   \n",
            "\n",
            "                                        comment_text  comment_score   \n",
            "0  ---      \\n\\n>This is a friendly reminder to [...              1  \\\n",
            "1   OH MY GOD, YOU BIRTHED KENNY!!!!\\n\\nYou bastard.           4322   \n",
            "2                            Respect my materni-teh!            852   \n",
            "3  ---      \\n\\n>This is a friendly reminder to [...              1   \n",
            "4  I kept running in a circle because mine shines...           2524   \n",
            "5  What to call it since *fleshlight* is already ...            675   \n",
            "6  ---      \\n\\n>This is a friendly reminder to [...              1   \n",
            "7  Beavers build in response to the sound of flow...           3023   \n",
            "8  Welcome to beaver moving company where we move...            953   \n",
            "\n",
            "   comment_ups  comment_downs        comment_author  \n",
            "0            1              0         AutoModerator  \n",
            "1         4322              0               rryland  \n",
            "2          852              0     sprinting-through  \n",
            "3            1              0         AutoModerator  \n",
            "4         2524              0              laiyenha  \n",
            "5          675              0  PrismaticHospitaller  \n",
            "6            1              0         AutoModerator  \n",
            "7         3023              0         tricksterloki  \n",
            "8          953              0             xeriopi45  \n"
          ]
        }
      ],
      "source": [
        "print(combined_df)"
      ]
    },
    {
      "cell_type": "code",
      "execution_count": null,
      "metadata": {
        "id": "r-YUpwmnT_4y"
      },
      "outputs": [],
      "source": [
        "# not necessary\n",
        "'''\n",
        "# Change to Make for Upvotes and Downvotes\n",
        "estimated_upvotes = round(post.score / (2 * post.upvote_ratio - 1)) if post.upvote_ratio != 0.5 else post.score\n",
        "estimated_downvotes = estimated_upvotes - post.score\n",
        "'''"
      ]
    }
  ],
  "metadata": {
    "colab": {
      "provenance": []
    },
    "kernelspec": {
      "display_name": "Python 3",
      "name": "python3"
    },
    "language_info": {
      "codemirror_mode": {
        "name": "ipython",
        "version": 3
      },
      "file_extension": ".py",
      "mimetype": "text/x-python",
      "name": "python",
      "nbconvert_exporter": "python",
      "pygments_lexer": "ipython3",
      "version": "3.11.3"
    }
  },
  "nbformat": 4,
  "nbformat_minor": 0
}
